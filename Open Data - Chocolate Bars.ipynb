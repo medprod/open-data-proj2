{
 "cells": [
  {
   "cell_type": "markdown",
   "metadata": {},
   "source": [
    "# Open Data Project: Chocolate Bar Ratings\n",
    "\n",
    "Name: Medha Prodduturi\n",
    "\n",
    "Date: 3/11/2020\n",
    "\n",
    "Source for Data Set: published by Rachael Tatman and compiled by Brady Brelinski\n",
    "\n",
    "URL for Data Set: https://www.kaggle.com/rtatman/chocolate-bar-ratings\n",
    "\n",
    "Description of Data Set: This dataset focuses on purely dark chocolate. It contains expert ratings of over 1700 types of chocolate bars, along with information about their regional origin, percentage of cacoa, variety of chocolate bean used, and where the beans were grown. The ratings were given on the following basis:\n",
    "5= Elite (Transcending beyond the ordinary limits)\n",
    "4= Premium (Superior flavor development, character and style)\n",
    "3= Satisfactory(3.0) to praiseworthy(3.75) (well made with special qualities)\n",
    "2= Disappointing (Passable but contains at least one significant flaw)\n",
    "1= Unpleasant (mostly unpalatable)\n",
    "\n",
    "File Format for Data Set: .csv\n",
    "\n",
    "Last Updated: 3 years ago "
   ]
  },
  {
   "cell_type": "markdown",
   "metadata": {},
   "source": [
    "# Part 1: Import and Trim Data (6 points)\n",
    "* Import file as a pandas dataframe\n",
    "* Display size of data\n",
    "* Create a numerical pandas series\n",
    "* Convert series data type to floating point numbers\n",
    "* Convert series to a numpy array, remove 'NaN' entries\n",
    "* Compute three common statistics"
   ]
  },
  {
   "cell_type": "markdown",
   "metadata": {},
   "source": [
    "### Import file as a pandas data frame\n",
    "* Store in an appropriately-named variable\n",
    "* Show the first 10 entries:\n",
    "    * This is a good way for you to see if your modification was successful and to see what the data looks like in your data set."
   ]
  },
  {
   "cell_type": "code",
   "execution_count": 1,
   "metadata": {},
   "outputs": [
    {
     "data": {
      "text/html": [
       "<div>\n",
       "<style scoped>\n",
       "    .dataframe tbody tr th:only-of-type {\n",
       "        vertical-align: middle;\n",
       "    }\n",
       "\n",
       "    .dataframe tbody tr th {\n",
       "        vertical-align: top;\n",
       "    }\n",
       "\n",
       "    .dataframe thead th {\n",
       "        text-align: right;\n",
       "    }\n",
       "</style>\n",
       "<table border=\"1\" class=\"dataframe\">\n",
       "  <thead>\n",
       "    <tr style=\"text-align: right;\">\n",
       "      <th></th>\n",
       "      <th>Company \\n(Maker-if known)</th>\n",
       "      <th>Specific Bean Origin\\nor Bar Name</th>\n",
       "      <th>REF</th>\n",
       "      <th>Review Date</th>\n",
       "      <th>Cocoa Percent</th>\n",
       "      <th>Company Location</th>\n",
       "      <th>Rating</th>\n",
       "      <th>Bean Type</th>\n",
       "      <th>Broad Bean Origin</th>\n",
       "    </tr>\n",
       "  </thead>\n",
       "  <tbody>\n",
       "    <tr>\n",
       "      <td>0</td>\n",
       "      <td>A. Morin</td>\n",
       "      <td>Agua Grande</td>\n",
       "      <td>1876</td>\n",
       "      <td>2016</td>\n",
       "      <td>63%</td>\n",
       "      <td>France</td>\n",
       "      <td>3.75</td>\n",
       "      <td></td>\n",
       "      <td>Sao Tome</td>\n",
       "    </tr>\n",
       "    <tr>\n",
       "      <td>1</td>\n",
       "      <td>A. Morin</td>\n",
       "      <td>Kpime</td>\n",
       "      <td>1676</td>\n",
       "      <td>2015</td>\n",
       "      <td>70%</td>\n",
       "      <td>France</td>\n",
       "      <td>2.75</td>\n",
       "      <td></td>\n",
       "      <td>Togo</td>\n",
       "    </tr>\n",
       "    <tr>\n",
       "      <td>2</td>\n",
       "      <td>A. Morin</td>\n",
       "      <td>Atsane</td>\n",
       "      <td>1676</td>\n",
       "      <td>2015</td>\n",
       "      <td>70%</td>\n",
       "      <td>France</td>\n",
       "      <td>3.00</td>\n",
       "      <td></td>\n",
       "      <td>Togo</td>\n",
       "    </tr>\n",
       "    <tr>\n",
       "      <td>3</td>\n",
       "      <td>A. Morin</td>\n",
       "      <td>Akata</td>\n",
       "      <td>1680</td>\n",
       "      <td>2015</td>\n",
       "      <td>70%</td>\n",
       "      <td>France</td>\n",
       "      <td>3.50</td>\n",
       "      <td></td>\n",
       "      <td>Togo</td>\n",
       "    </tr>\n",
       "    <tr>\n",
       "      <td>4</td>\n",
       "      <td>A. Morin</td>\n",
       "      <td>Quilla</td>\n",
       "      <td>1704</td>\n",
       "      <td>2015</td>\n",
       "      <td>70%</td>\n",
       "      <td>France</td>\n",
       "      <td>3.50</td>\n",
       "      <td></td>\n",
       "      <td>Peru</td>\n",
       "    </tr>\n",
       "    <tr>\n",
       "      <td>5</td>\n",
       "      <td>A. Morin</td>\n",
       "      <td>Carenero</td>\n",
       "      <td>1315</td>\n",
       "      <td>2014</td>\n",
       "      <td>70%</td>\n",
       "      <td>France</td>\n",
       "      <td>2.75</td>\n",
       "      <td>Criollo</td>\n",
       "      <td>Venezuela</td>\n",
       "    </tr>\n",
       "    <tr>\n",
       "      <td>6</td>\n",
       "      <td>A. Morin</td>\n",
       "      <td>Cuba</td>\n",
       "      <td>1315</td>\n",
       "      <td>2014</td>\n",
       "      <td>70%</td>\n",
       "      <td>France</td>\n",
       "      <td>3.50</td>\n",
       "      <td></td>\n",
       "      <td>Cuba</td>\n",
       "    </tr>\n",
       "    <tr>\n",
       "      <td>7</td>\n",
       "      <td>A. Morin</td>\n",
       "      <td>Sur del Lago</td>\n",
       "      <td>1315</td>\n",
       "      <td>2014</td>\n",
       "      <td>70%</td>\n",
       "      <td>France</td>\n",
       "      <td>3.50</td>\n",
       "      <td>Criollo</td>\n",
       "      <td>Venezuela</td>\n",
       "    </tr>\n",
       "    <tr>\n",
       "      <td>8</td>\n",
       "      <td>A. Morin</td>\n",
       "      <td>Puerto Cabello</td>\n",
       "      <td>1319</td>\n",
       "      <td>2014</td>\n",
       "      <td>70%</td>\n",
       "      <td>France</td>\n",
       "      <td>3.75</td>\n",
       "      <td>Criollo</td>\n",
       "      <td>Venezuela</td>\n",
       "    </tr>\n",
       "    <tr>\n",
       "      <td>9</td>\n",
       "      <td>A. Morin</td>\n",
       "      <td>Pablino</td>\n",
       "      <td>1319</td>\n",
       "      <td>2014</td>\n",
       "      <td>70%</td>\n",
       "      <td>France</td>\n",
       "      <td>4.00</td>\n",
       "      <td></td>\n",
       "      <td>Peru</td>\n",
       "    </tr>\n",
       "  </tbody>\n",
       "</table>\n",
       "</div>"
      ],
      "text/plain": [
       "  Company \\n(Maker-if known) Specific Bean Origin\\nor Bar Name   REF  \\\n",
       "0                   A. Morin                       Agua Grande  1876   \n",
       "1                   A. Morin                             Kpime  1676   \n",
       "2                   A. Morin                            Atsane  1676   \n",
       "3                   A. Morin                             Akata  1680   \n",
       "4                   A. Morin                            Quilla  1704   \n",
       "5                   A. Morin                          Carenero  1315   \n",
       "6                   A. Morin                              Cuba  1315   \n",
       "7                   A. Morin                      Sur del Lago  1315   \n",
       "8                   A. Morin                    Puerto Cabello  1319   \n",
       "9                   A. Morin                           Pablino  1319   \n",
       "\n",
       "   Review Date Cocoa Percent Company Location  Rating Bean Type  \\\n",
       "0         2016           63%           France    3.75             \n",
       "1         2015           70%           France    2.75             \n",
       "2         2015           70%           France    3.00             \n",
       "3         2015           70%           France    3.50             \n",
       "4         2015           70%           France    3.50             \n",
       "5         2014           70%           France    2.75   Criollo   \n",
       "6         2014           70%           France    3.50             \n",
       "7         2014           70%           France    3.50   Criollo   \n",
       "8         2014           70%           France    3.75   Criollo   \n",
       "9         2014           70%           France    4.00             \n",
       "\n",
       "  Broad Bean Origin  \n",
       "0          Sao Tome  \n",
       "1              Togo  \n",
       "2              Togo  \n",
       "3              Togo  \n",
       "4              Peru  \n",
       "5         Venezuela  \n",
       "6              Cuba  \n",
       "7         Venezuela  \n",
       "8         Venezuela  \n",
       "9              Peru  "
      ]
     },
     "execution_count": 1,
     "metadata": {},
     "output_type": "execute_result"
    }
   ],
   "source": [
    "# To earn points, you must comment your code\n",
    "\n",
    "# import pandas module\n",
    "import pandas as pd\n",
    "\n",
    "# Read in the csv file\n",
    "ratings_DF = pd.read_csv(\"flavors_of_cacao.csv\")\n",
    "\n",
    "# Print the first ten entries of the file\n",
    "ratings_DF[:10]"
   ]
  },
  {
   "cell_type": "markdown",
   "metadata": {},
   "source": [
    "### Display size of data"
   ]
  },
  {
   "cell_type": "code",
   "execution_count": 57,
   "metadata": {},
   "outputs": [
    {
     "data": {
      "text/plain": [
       "1795"
      ]
     },
     "execution_count": 57,
     "metadata": {},
     "output_type": "execute_result"
    }
   ],
   "source": [
    "# To earn points, you must comment your code\n",
    "\n",
    "# The length of the dataset\n",
    "len(ratings_DF)"
   ]
  },
  {
   "cell_type": "markdown",
   "metadata": {},
   "source": [
    "### Create a numerical pandas series\n",
    "* REMINDER: A panda series is similar to a standard list, but works specifically with pandas list of functions\n",
    "* Locate a numerical column of interest in your pandas data frame\n",
    "* Store all values from that column in an appropriately-named variable\n",
    "* Show the first ten entries\n",
    "    * This is a good way for you to see if your modification was successful and to see what the data looks like"
   ]
  },
  {
   "cell_type": "code",
   "execution_count": 3,
   "metadata": {},
   "outputs": [
    {
     "data": {
      "text/plain": [
       "0    3.75\n",
       "1    2.75\n",
       "2    3.00\n",
       "3    3.50\n",
       "4    3.50\n",
       "5    2.75\n",
       "6    3.50\n",
       "7    3.50\n",
       "8    3.75\n",
       "9    4.00\n",
       "Name: Rating, dtype: float64"
      ]
     },
     "execution_count": 3,
     "metadata": {},
     "output_type": "execute_result"
    }
   ],
   "source": [
    "# To earn points, you must comment your code\n",
    "\n",
    "# Store all values from the \"Ratings\" column\n",
    "ratings_list = ratings_DF[\"Rating\"]\n",
    "\n",
    "# Print the first 10 entries\n",
    "ratings_list[:10]"
   ]
  },
  {
   "cell_type": "markdown",
   "metadata": {},
   "source": [
    "### Convert series data type to floating point numbers\n",
    "* Modify your data appropriately so that your array holds only decimals\n",
    "    * Replace all special characters ('$', '%', '#', etc.)\n",
    "    * Convert all entries to floating point numbers\n",
    "* Show the first 10 entries\n",
    "    * This is a good way for you to see if your modification was successful and to see what the data looks like"
   ]
  },
  {
   "cell_type": "code",
   "execution_count": 58,
   "metadata": {},
   "outputs": [
    {
     "data": {
      "text/plain": [
       "0    3.75\n",
       "1    2.75\n",
       "2    3.00\n",
       "3    3.50\n",
       "4    3.50\n",
       "5    2.75\n",
       "6    3.50\n",
       "7    3.50\n",
       "8    3.75\n",
       "9    4.00\n",
       "Name: Rating, dtype: float64"
      ]
     },
     "execution_count": 58,
     "metadata": {},
     "output_type": "execute_result"
    }
   ],
   "source": [
    "# To earn points, you must comment your code\n",
    "\n",
    "# Since they are ratings, I do not have to remove any symbols\n",
    "# Convert to floating point number -- 0.00\n",
    "ratings_list = ratings_list.astype(float)\n",
    "\n",
    "# Print the first ten entries\n",
    "ratings_list[:10]"
   ]
  },
  {
   "cell_type": "markdown",
   "metadata": {},
   "source": [
    "### Convert series to a numpy array, remove 'NaN' entries\n",
    "* Convert your pandas series to a numpy array with an appr\n",
    "* Remove all 'NaN' entries\n",
    "* Show the first 30 entries\n",
    "    * This is a good way for you to see if your modification was successful and to see what the data looks like"
   ]
  },
  {
   "cell_type": "code",
   "execution_count": 59,
   "metadata": {},
   "outputs": [
    {
     "data": {
      "text/plain": [
       "array([3.75, 2.75, 3.  , 3.5 , 3.5 , 2.75, 3.5 , 3.5 , 3.75, 4.  , 2.75,\n",
       "       3.  , 3.25, 3.75, 2.75, 3.  , 3.25, 4.  , 3.25, 3.5 , 4.  , 3.5 ,\n",
       "       3.75, 3.75, 3.75, 2.75, 3.25, 3.5 , 3.5 , 2.75])"
      ]
     },
     "execution_count": 59,
     "metadata": {},
     "output_type": "execute_result"
    }
   ],
   "source": [
    "# To earn points, you must comment your code\n",
    "# Since no NaN values in dataset, print the first 30 entries\n",
    "\n",
    "# Import numpy\n",
    "import numpy as np\n",
    "\n",
    "# Convery daa to a numpy array\n",
    "ratings_array = np.array(ratings_list)\n",
    "\n",
    "# Print the first 30 entries\n",
    "ratings_array[:30]"
   ]
  },
  {
   "cell_type": "markdown",
   "metadata": {},
   "source": [
    "### Compute three common statistics\n",
    "* Using your numpy array, calculate various common statistics\n",
    "    * Mean\n",
    "    * Median\n",
    "    * Mode\n",
    "    * Standard deviation\n",
    "    * Sums\n",
    "    * Etc.\n",
    "* Indicate which statistic is being calculated in the markdown cell above the code cell"
   ]
  },
  {
   "cell_type": "markdown",
   "metadata": {},
   "source": [
    "### What is the median rating of all chocolate bars?"
   ]
  },
  {
   "cell_type": "code",
   "execution_count": 61,
   "metadata": {},
   "outputs": [
    {
     "data": {
      "text/plain": [
       "3.25"
      ]
     },
     "execution_count": 61,
     "metadata": {},
     "output_type": "execute_result"
    }
   ],
   "source": [
    "# To earn points, you must comment your code\n",
    "# Print the middle rating number of dataset\n",
    "median = np.median(ratings_array)\n",
    "median"
   ]
  },
  {
   "cell_type": "markdown",
   "metadata": {},
   "source": [
    "### What is the standard deviation of chocolate bars' ratings?"
   ]
  },
  {
   "cell_type": "code",
   "execution_count": 62,
   "metadata": {},
   "outputs": [
    {
     "data": {
      "text/plain": [
       "0.47792921002236244"
      ]
     },
     "execution_count": 62,
     "metadata": {},
     "output_type": "execute_result"
    }
   ],
   "source": [
    "# To earn points, you must comment your code\n",
    "# The standard deviation of all ratings of dataset\n",
    "standard_dev = np.std(ratings_array)\n",
    "standard_dev"
   ]
  },
  {
   "cell_type": "markdown",
   "metadata": {},
   "source": [
    "### What is the average/mean rating of all chocolate bars?"
   ]
  },
  {
   "cell_type": "code",
   "execution_count": 63,
   "metadata": {},
   "outputs": [
    {
     "data": {
      "text/plain": [
       "3.185933147632312"
      ]
     },
     "execution_count": 63,
     "metadata": {},
     "output_type": "execute_result"
    }
   ],
   "source": [
    "# To earn points, you must comment your code\n",
    "# The average rating of dataset\n",
    "average = np.average(ratings_array)\n",
    "average"
   ]
  },
  {
   "cell_type": "markdown",
   "metadata": {},
   "source": [
    "# Part 2: Create a Histogram (6 points)\n",
    "* WARNING: DO NOT COPY/PASTE ENTIRE GRAPH CODE ALL AT ONCE\n",
    "    * Use code line-by-line to ensure all values are changed to reflect the ones in this notebook!\n",
    "* REMINDER: Histograms display frequencies of data values grouped together in chosen ranges\n",
    "    * Think - what list is storing the required data?\n",
    "        * Should be a numpy array of numbers\n",
    "    * Think - how will you divide up the data into bins\n",
    "        * What is the minimum value?\n",
    "        * What is the maximum value?\n",
    "        * What should the size of each bin be?\n",
    "            * What numbers should each bin start/stop at?\n",
    "        * Which alignment will you use?     \n",
    "* Create frequency bins\n",
    "* Set graph details\n",
    "* Create and display graph"
   ]
  },
  {
   "cell_type": "markdown",
   "metadata": {},
   "source": [
    "### Create frequency bins and alignment\n",
    "* Create and store a list of 'edge numbers' for your bins in an appropriately-named variable\n",
    "    * Your data should fit between the lowest and highest values\n",
    "    * Use a loop to help create bins quickly"
   ]
  },
  {
   "cell_type": "markdown",
   "metadata": {},
   "source": [
    "### The highest and lowest chocolate bar ratings:"
   ]
  },
  {
   "cell_type": "code",
   "execution_count": 9,
   "metadata": {},
   "outputs": [
    {
     "data": {
      "text/plain": [
       "5.0"
      ]
     },
     "execution_count": 9,
     "metadata": {},
     "output_type": "execute_result"
    }
   ],
   "source": [
    "highest = np.amax(ratings_array)\n",
    "highest"
   ]
  },
  {
   "cell_type": "code",
   "execution_count": 10,
   "metadata": {},
   "outputs": [
    {
     "data": {
      "text/plain": [
       "1.0"
      ]
     },
     "execution_count": 10,
     "metadata": {},
     "output_type": "execute_result"
    }
   ],
   "source": [
    "lowest = np.amin(ratings_array)\n",
    "lowest"
   ]
  },
  {
   "cell_type": "code",
   "execution_count": 11,
   "metadata": {},
   "outputs": [
    {
     "name": "stdout",
     "output_type": "stream",
     "text": [
      "[0, 1, 2, 3, 4, 5]\n"
     ]
    }
   ],
   "source": [
    "# To earn points, you must comment your code\n",
    "\n",
    "# Import matplotlib\n",
    "import matplotlib.pyplot as plot\n",
    "%matplotlib inline\n",
    "\n",
    "# Create bins array\n",
    "bins = []\n",
    "for i in range(6):\n",
    "    bin = i * 1\n",
    "    bins.append(bin)\n",
    "print(bins)"
   ]
  },
  {
   "cell_type": "markdown",
   "metadata": {},
   "source": [
    "### Set graph details & Create and display graph\n",
    "* Import matplotlib appropriately\n",
    "* Your graph should be styled uniquely compared to any previously created, and must inlude:\n",
    "    * Title\n",
    "    * X-axis label\n",
    "    * Y-axis label\n",
    "    * Visually appealing style\n",
    "    * Graph color not previously used\n",
    "    * HISTOGRAM SYNTAX: plot.hist(data_array, bins_array, extras...)"
   ]
  },
  {
   "cell_type": "code",
   "execution_count": 64,
   "metadata": {},
   "outputs": [
    {
     "name": "stdout",
     "output_type": "stream",
     "text": [
      "[0, 1, 2, 3, 4, 5]\n"
     ]
    },
    {
     "data": {
      "image/png": "[encoded data removed]",
      "text/plain": [
       "<Figure size 360x216 with 1 Axes>"
      ]
     },
     "metadata": {
      "needs_background": "light"
     },
     "output_type": "display_data"
    }
   ],
   "source": [
    "# To earn points, you must comment your code\n",
    "\n",
    "# This visual shows how frequently each rating number appears in the dataset\n",
    "\n",
    "# Import matplotlib\n",
    "import matplotlib.pyplot as plt\n",
    "%matplotlib inline\n",
    "\n",
    "# Create bins array\n",
    "bins = []\n",
    "for i in range(6):\n",
    "    bin = i * 1\n",
    "    bins.append(bin)\n",
    "print(bins)\n",
    "\n",
    "# Graph style\n",
    "plt.style.use(\"bmh\")\n",
    "plt.figure(figsize=(5,3))\n",
    "plt.xlim([1,5])\n",
    "\n",
    "# Create title and labels\n",
    "plt.title(\"Dark Chocolate Bars' Expert Ratings\")\n",
    "plt.ylabel(\"Frequency\")\n",
    "plt.xlabel(\"Expert Rating\")\n",
    "\n",
    "# Create historgram\n",
    "plt.hist(ratings_array, bins, align=\"left\", color=\"#c33c7d\", edgecolor='black')\n",
    "plt.show()"
   ]
  },
  {
   "cell_type": "markdown",
   "metadata": {},
   "source": [
    "# Part 3: Modifying Data Using Counts \n",
    "* Create a pandas series of value counts\n",
    "* Create two parallel lists"
   ]
  },
  {
   "cell_type": "markdown",
   "metadata": {},
   "source": [
    "### Create a pandas series of value counts\n",
    "* Locate a non-numerical column of interest from your original pandas dataframe\n",
    "    * You will be counting how many times each entry appears in the list\n",
    "    * Your chosen column should:\n",
    "        * Have mulptiple repeated entries\n",
    "        * Have the ability to be grouped into categories\n",
    "* Create and store a pandas series of value counts in an appropriately-named variable\n",
    "* Show the series of counts\n",
    "    * This is a good way for you to see if your modification was successful and to see what the data looks like"
   ]
  },
  {
   "cell_type": "code",
   "execution_count": 13,
   "metadata": {},
   "outputs": [
    {
     "data": {
      "text/plain": [
       "U.S.A.               764\n",
       "France               156\n",
       "Canada               125\n",
       "U.K.                  96\n",
       "Italy                 63\n",
       "Ecuador               54\n",
       "Australia             49\n",
       "Belgium               40\n",
       "Switzerland           38\n",
       "Germany               35\n",
       "Austria               26\n",
       "Spain                 25\n",
       "Colombia              23\n",
       "Hungary               22\n",
       "Venezuela             20\n",
       "Japan                 17\n",
       "Brazil                17\n",
       "Madagascar            17\n",
       "New Zealand           17\n",
       "Peru                  17\n",
       "Denmark               15\n",
       "Vietnam               11\n",
       "Scotland              10\n",
       "Guatemala             10\n",
       "Argentina              9\n",
       "Israel                 9\n",
       "Costa Rica             9\n",
       "Poland                 8\n",
       "Honduras               6\n",
       "Lithuania              6\n",
       "Domincan Republic      5\n",
       "Nicaragua              5\n",
       "South Korea            5\n",
       "Sweden                 5\n",
       "Fiji                   4\n",
       "Mexico                 4\n",
       "Ireland                4\n",
       "Sao Tome               4\n",
       "Amsterdam              4\n",
       "Netherlands            4\n",
       "Puerto Rico            4\n",
       "Iceland                3\n",
       "Portugal               3\n",
       "Grenada                3\n",
       "South Africa           3\n",
       "Singapore              3\n",
       "St. Lucia              2\n",
       "Finland                2\n",
       "Chile                  2\n",
       "Bolivia                2\n",
       "Niacragua              1\n",
       "Ghana                  1\n",
       "Eucador                1\n",
       "Philippines            1\n",
       "Suriname               1\n",
       "Wales                  1\n",
       "Martinique             1\n",
       "India                  1\n",
       "Czech Republic         1\n",
       "Russia                 1\n",
       "Name: Company Location, dtype: int64"
      ]
     },
     "execution_count": 13,
     "metadata": {},
     "output_type": "execute_result"
    }
   ],
   "source": [
    "# Count the number of chocolate bar ratings from each company location (country)\n",
    "location_freq = ratings_DF[\"Company Location\"].value_counts()\n",
    "location_freq"
   ]
  },
  {
   "cell_type": "markdown",
   "metadata": {},
   "source": [
    "### Create two parallel lists\n",
    "* REMINDERS:\n",
    "    * Use index.tolist() to extract only the category names\n",
    "    * Use tolist() to extract only the statistic of interest\n",
    "* Create a list of the category names from the value count panda series\n",
    "    * Store in an appropriately-named variable\n",
    "    * Ex: [POLICE, FIRE, OEMC, etc...]\n",
    "* Create a list of the frequencies for each entry from the value count panda series\n",
    "    * Store in an appropriately-named variable\n",
    "    * Ex: [13061, 4837, 2120, etc...]\n",
    "* Show each list individually\n",
    "    * This is a good way for you to see if your modifications were successful and to see what the data looks like"
   ]
  },
  {
   "cell_type": "code",
   "execution_count": 65,
   "metadata": {},
   "outputs": [
    {
     "name": "stdout",
     "output_type": "stream",
     "text": [
      "['U.S.A.', 'France', 'Canada', 'U.K.', 'Italy', 'Ecuador', 'Australia', 'Belgium', 'Switzerland', 'Germany', 'Austria', 'Spain', 'Colombia', 'Hungary', 'Venezuela', 'Japan', 'Brazil', 'Madagascar', 'New Zealand', 'Peru', 'Denmark', 'Vietnam', 'Scotland', 'Guatemala', 'Argentina', 'Israel', 'Costa Rica', 'Poland', 'Honduras', 'Lithuania', 'Domincan Republic', 'Nicaragua', 'South Korea', 'Sweden', 'Fiji', 'Mexico', 'Ireland', 'Sao Tome', 'Amsterdam', 'Netherlands', 'Puerto Rico', 'Iceland', 'Portugal', 'Grenada', 'South Africa', 'Singapore', 'St. Lucia', 'Finland', 'Chile', 'Bolivia', 'Niacragua', 'Ghana', 'Eucador', 'Philippines', 'Suriname', 'Wales', 'Martinique', 'India', 'Czech Republic', 'Russia']\n",
      "[764, 156, 125, 96, 63, 54, 49, 40, 38, 35, 26, 25, 23, 22, 20, 17, 17, 17, 17, 17, 15, 11, 10, 10, 9, 9, 9, 8, 6, 6, 5, 5, 5, 5, 4, 4, 4, 4, 4, 4, 4, 3, 3, 3, 3, 3, 2, 2, 2, 2, 1, 1, 1, 1, 1, 1, 1, 1, 1, 1]\n"
     ]
    }
   ],
   "source": [
    "# To earn points, you must comment your code\n",
    "# Create company  location list\n",
    "location_names = location_freq.index.tolist()\n",
    "\n",
    "# Create frequency list\n",
    "location_counts = location_freq.tolist()\n",
    "\n",
    "#Print\n",
    "print(location_names)\n",
    "print(location_counts)"
   ]
  },
  {
   "cell_type": "code",
   "execution_count": 15,
   "metadata": {},
   "outputs": [
    {
     "data": {
      "text/plain": [
       "<function matplotlib.pyplot.show(*args, **kw)>"
      ]
     },
     "execution_count": 15,
     "metadata": {},
     "output_type": "execute_result"
    },
    {
     "data": {
      "image/png": "[encoded data removed]",
      "text/plain": [
       "<Figure size 432x288 with 1 Axes>"
      ]
     },
     "metadata": {},
     "output_type": "display_data"
    }
   ],
   "source": [
    "# To earn points, you must comment your code\n",
    "\n",
    "# Import matplotlib\n",
    "import matplotlib.pyplot as plot\n",
    "%matplotlib inline\n",
    "\n",
    "# Create labels and data array\n",
    "labels = location_names\n",
    "data = location_counts\n",
    "\n",
    "# Graph pie chart\n",
    "plot.pie(data, labels=labels, autopct=\"%1.1f%%\", shadow = True)\n",
    "plot.title(\"Chocolate Bars per Company Location\")\n",
    "# plot.legend(title=\"Legend\", Loc=\"Lower Left\")\n",
    "plot.axis(\"equal\")\n",
    "plot.show"
   ]
  },
  {
   "cell_type": "markdown",
   "metadata": {},
   "source": [
    "# Part 4: Creating a Pie Chart \n",
    "* WARNING: DO NOT COPY/PASTE ENTIRE GRAPH CODE ALL AT ONCE\n",
    "    * Use code line-by-line to ensure all values are changed to reflect the ones in this notebook!\n",
    "* REMINDER: Pie charts display the ratio of values in comparison to the whole\n",
    "    * Think - Which lists are storing the required data?\n",
    "        * One list of counts\n",
    "        * One list of labels\n",
    "* NOTE: If you have 9 or more categories you should create an \"Other\" category to earn full credit!\n",
    "* Create an \"Other\" category (if necessary)\n",
    "* Set graph details\n",
    "* Create and display graph"
   ]
  },
  {
   "cell_type": "markdown",
   "metadata": {},
   "source": [
    "### Create an \"Other\" category (if necessary)\n",
    "* If you have 9 or more categories, lump the remainging categories as one \"Other\" category\n",
    "* All labels should be clearly visible"
   ]
  },
  {
   "cell_type": "code",
   "execution_count": 16,
   "metadata": {},
   "outputs": [
    {
     "name": "stdout",
     "output_type": "stream",
     "text": [
      "['U.S.A.', 'France', 'Canada', 'U.K.', 'Italy', 'Ecuador', 'Australia', 'Belgium', 'Switzerland', 'Germany', 'OTHER']\n",
      "[764, 156, 125, 96, 63, 54, 49, 40, 38, 35, 375]\n"
     ]
    }
   ],
   "source": [
    "# To earn points, you must comment your code\n",
    "# Make new list of largest 10 names, add \"OTHER\"\n",
    "shortened_names = location_names[:10]\n",
    "shortened_names.append(\"OTHER\")\n",
    "\n",
    "# Make new lst of largest 10 counts, add sum of remaining\n",
    "shortened_counts = location_counts[:10]\n",
    "remaining = sum(location_counts[10:])\n",
    "shortened_counts.append(remaining)\n",
    "\n",
    "# Print two lists\n",
    "print(shortened_names)\n",
    "print(shortened_counts)"
   ]
  },
  {
   "cell_type": "markdown",
   "metadata": {},
   "source": [
    "### Set graph details & Create and display graph\n",
    "* Import matplotlib appropriately\n",
    "* Your graph should be styled uniquely compared to any previously created, and must inlude:\n",
    "    * Title\n",
    "    * Appropriate labels\n",
    "    * Visually appealing style\n",
    "    * Graph color not previously used\n",
    "* PIE CHART SYNTAX: plot.pie(counts_list, labels_list, extras...)"
   ]
  },
  {
   "cell_type": "code",
   "execution_count": 66,
   "metadata": {},
   "outputs": [
    {
     "data": {
      "image/png": "[encoded data removed]",
      "text/plain": [
       "<Figure size 1224x1224 with 1 Axes>"
      ]
     },
     "metadata": {},
     "output_type": "display_data"
    }
   ],
   "source": [
    "# To earn points, you must comment your code\n",
    "\n",
    "# This visual shows the percent of chocolate bar (ratings) from each company location or country.\n",
    "\n",
    "# Import matplotlib\n",
    "import matplotlib.pyplot as plot\n",
    "%matplotlib inline\n",
    "\n",
    "# Graph details\n",
    "plot.figure(figsize=(17,17))\n",
    "plot.title(\"Chocolate Bars per Company Location\")\n",
    "plot.style.use(\"grayscale\")\n",
    "colors_array = [\"#6699ff\", \"#ff6666\", \"#00b377\", \"#ff9900\", \"#009900\", \"#999900\", \"#bf80ff\", \"#cc6699\", \"#0000b3\", \"#666699\", \"#ffd24d\"]\n",
    "\n",
    "# Create pie chart\n",
    "plot.pie(shortened_counts, labels=shortened_names, colors=colors_array, autopct=\"%1.1f%%\", shadow=True)\n",
    "plot.show()"
   ]
  },
  {
   "cell_type": "markdown",
   "metadata": {},
   "source": [
    "# Part 5\n",
    "* Create an additional question\n",
    "* Create an appropriate pandas series\n",
    "* Split into individual lists\n",
    "* Create list of sorted tuples\n",
    "* Split into individual sorted lists"
   ]
  },
  {
   "cell_type": "markdown",
   "metadata": {},
   "source": [
    "### Create an additional question\n",
    "* How else can your categories be compared?\n",
    "* What additional number can your categories be compared by?\n",
    "    * Ex: Which category has largest/smallest...\n",
    "        * ...average?\n",
    "        * ...maximum?\n",
    "        * ...minimum?\n",
    "        * ...standard deviation?\n",
    "* State your question relative to the data you are working with"
   ]
  },
  {
   "cell_type": "markdown",
   "metadata": {},
   "source": [
    "## Question: What are the company locations/countries with the highest and lowest mean/average rating of chocolate bars?"
   ]
  },
  {
   "cell_type": "markdown",
   "metadata": {},
   "source": [
    "### Create an appropriate pandas series\n",
    "* REMINDER: Use .groupby() to organize your series based on another column's data"
   ]
  },
  {
   "cell_type": "code",
   "execution_count": 67,
   "metadata": {},
   "outputs": [
    {
     "data": {
      "text/plain": [
       "Company Location\n",
       "Amsterdam            3.500000\n",
       "Argentina            3.305556\n",
       "Australia            3.357143\n",
       "Austria              3.240385\n",
       "Belgium              3.093750\n",
       "Bolivia              3.250000\n",
       "Brazil               3.397059\n",
       "Canada               3.324000\n",
       "Chile                3.750000\n",
       "Colombia             3.173913\n",
       "Costa Rica           3.138889\n",
       "Czech Republic       2.750000\n",
       "Denmark              3.283333\n",
       "Domincan Republic    3.200000\n",
       "Ecuador              3.009259\n",
       "Eucador              3.000000\n",
       "Fiji                 3.250000\n",
       "Finland              3.250000\n",
       "France               3.251603\n",
       "Germany              3.178571\n",
       "Ghana                2.750000\n",
       "Grenada              2.833333\n",
       "Guatemala            3.350000\n",
       "Honduras             3.208333\n",
       "Hungary              3.204545\n",
       "Iceland              3.416667\n",
       "India                2.500000\n",
       "Ireland              2.812500\n",
       "Israel               3.250000\n",
       "Italy                3.325397\n",
       "Japan                3.088235\n",
       "Lithuania            3.166667\n",
       "Madagascar           3.147059\n",
       "Martinique           2.750000\n",
       "Mexico               2.687500\n",
       "Netherlands          3.500000\n",
       "New Zealand          3.191176\n",
       "Niacragua            2.750000\n",
       "Nicaragua            3.000000\n",
       "Peru                 2.897059\n",
       "Philippines          3.500000\n",
       "Poland               3.375000\n",
       "Portugal             2.750000\n",
       "Puerto Rico          2.625000\n",
       "Russia               3.250000\n",
       "Sao Tome             2.937500\n",
       "Scotland             3.325000\n",
       "Singapore            3.333333\n",
       "South Africa         2.666667\n",
       "South Korea          3.200000\n",
       "Spain                3.270000\n",
       "St. Lucia            3.000000\n",
       "Suriname             3.250000\n",
       "Sweden               3.050000\n",
       "Switzerland          3.342105\n",
       "U.K.                 3.054688\n",
       "U.S.A.               3.154123\n",
       "Venezuela            3.175000\n",
       "Vietnam              3.409091\n",
       "Wales                2.750000\n",
       "Name: Rating, dtype: float64"
      ]
     },
     "execution_count": 67,
     "metadata": {},
     "output_type": "execute_result"
    }
   ],
   "source": [
    "# To earn points, you must comment your code\n",
    "\n",
    "# The average chocolate bar rating for each country\n",
    "location_bars_avg = ratings_DF[\"Rating\"].groupby(ratings_DF[\"Company Location\"]).mean()\n",
    "location_bars_avg"
   ]
  },
  {
   "cell_type": "markdown",
   "metadata": {},
   "source": [
    "### Split into individual lists\n",
    "* Create two parallel lists \n",
    "    * One list of categories\n",
    "    * One list of statistics of interest\n",
    "* Show each list individually\n",
    "    * This is a good way for you to see if your modifications were successful and to see what the data looks like"
   ]
  },
  {
   "cell_type": "code",
   "execution_count": 19,
   "metadata": {},
   "outputs": [
    {
     "name": "stdout",
     "output_type": "stream",
     "text": [
      "['Amsterdam', 'Argentina', 'Australia', 'Austria', 'Belgium', 'Bolivia', 'Brazil', 'Canada', 'Chile', 'Colombia', 'Costa Rica', 'Czech Republic', 'Denmark', 'Domincan Republic', 'Ecuador', 'Eucador', 'Fiji', 'Finland', 'France', 'Germany', 'Ghana', 'Grenada', 'Guatemala', 'Honduras', 'Hungary', 'Iceland', 'India', 'Ireland', 'Israel', 'Italy', 'Japan', 'Lithuania', 'Madagascar', 'Martinique', 'Mexico', 'Netherlands', 'New Zealand', 'Niacragua', 'Nicaragua', 'Peru', 'Philippines', 'Poland', 'Portugal', 'Puerto Rico', 'Russia', 'Sao Tome', 'Scotland', 'Singapore', 'South Africa', 'South Korea', 'Spain', 'St. Lucia', 'Suriname', 'Sweden', 'Switzerland', 'U.K.', 'U.S.A.', 'Venezuela', 'Vietnam', 'Wales']\n",
      "[3.5, 3.3055555555555554, 3.357142857142857, 3.2403846153846154, 3.09375, 3.25, 3.3970588235294117, 3.324, 3.75, 3.1739130434782608, 3.138888888888889, 2.75, 3.283333333333333, 3.2, 3.009259259259259, 3.0, 3.25, 3.25, 3.2516025641025643, 3.1785714285714284, 2.75, 2.8333333333333335, 3.35, 3.2083333333333335, 3.2045454545454546, 3.4166666666666665, 2.5, 2.8125, 3.25, 3.3253968253968256, 3.088235294117647, 3.1666666666666665, 3.1470588235294117, 2.75, 2.6875, 3.5, 3.1911764705882355, 2.75, 3.0, 2.8970588235294117, 3.5, 3.375, 2.75, 2.625, 3.25, 2.9375, 3.325, 3.3333333333333335, 2.6666666666666665, 3.2, 3.27, 3.0, 3.25, 3.05, 3.3421052631578947, 3.0546875, 3.1541230366492146, 3.175, 3.409090909090909, 2.75]\n"
     ]
    }
   ],
   "source": [
    "# To earn points, you must comment your code\n",
    "\n",
    "# Array of location names sorted by average rating\n",
    "location_names_avg = location_bars_avg.index.tolist()\n",
    "\n",
    "# Array of ratings sorted by each location\n",
    "location_avg = location_bars_avg.tolist()\n",
    "\n",
    "# Print\n",
    "print(location_names_avg)\n",
    "print(location_avg)"
   ]
  },
  {
   "cell_type": "markdown",
   "metadata": {},
   "source": [
    "### Create list of sorted tuples\n",
    "* Loop through parallel lists to create tuples in the form (category, statistic)\n",
    "* Sort appropriately\n",
    "    * REMINDER: Use list_name.sort(key=lambda x: x[1], reverse=True) to sort\n",
    "* Show the list\n",
    "    * This is a good way for you to see if your modifications were successful and to see what the data looks like"
   ]
  },
  {
   "cell_type": "code",
   "execution_count": 68,
   "metadata": {},
   "outputs": [
    {
     "data": {
      "text/plain": [
       "[('Chile', 3.75),\n",
       " ('Amsterdam', 3.5),\n",
       " ('Netherlands', 3.5),\n",
       " ('Philippines', 3.5),\n",
       " ('Iceland', 3.4166666666666665),\n",
       " ('Vietnam', 3.409090909090909),\n",
       " ('Brazil', 3.3970588235294117),\n",
       " ('Poland', 3.375),\n",
       " ('Australia', 3.357142857142857),\n",
       " ('Guatemala', 3.35),\n",
       " ('Switzerland', 3.3421052631578947),\n",
       " ('Singapore', 3.3333333333333335),\n",
       " ('Italy', 3.3253968253968256),\n",
       " ('Scotland', 3.325),\n",
       " ('Canada', 3.324),\n",
       " ('Argentina', 3.3055555555555554),\n",
       " ('Denmark', 3.283333333333333),\n",
       " ('Spain', 3.27),\n",
       " ('France', 3.2516025641025643),\n",
       " ('Bolivia', 3.25),\n",
       " ('Fiji', 3.25),\n",
       " ('Finland', 3.25),\n",
       " ('Israel', 3.25),\n",
       " ('Russia', 3.25),\n",
       " ('Suriname', 3.25),\n",
       " ('Austria', 3.2403846153846154),\n",
       " ('Honduras', 3.2083333333333335),\n",
       " ('Hungary', 3.2045454545454546),\n",
       " ('Domincan Republic', 3.2),\n",
       " ('South Korea', 3.2),\n",
       " ('New Zealand', 3.1911764705882355),\n",
       " ('Germany', 3.1785714285714284),\n",
       " ('Venezuela', 3.175),\n",
       " ('Colombia', 3.1739130434782608),\n",
       " ('Lithuania', 3.1666666666666665),\n",
       " ('U.S.A.', 3.1541230366492146),\n",
       " ('Madagascar', 3.1470588235294117),\n",
       " ('Costa Rica', 3.138888888888889),\n",
       " ('Belgium', 3.09375),\n",
       " ('Japan', 3.088235294117647),\n",
       " ('U.K.', 3.0546875),\n",
       " ('Sweden', 3.05),\n",
       " ('Ecuador', 3.009259259259259),\n",
       " ('Eucador', 3.0),\n",
       " ('Nicaragua', 3.0),\n",
       " ('St. Lucia', 3.0),\n",
       " ('Sao Tome', 2.9375),\n",
       " ('Peru', 2.8970588235294117),\n",
       " ('Grenada', 2.8333333333333335),\n",
       " ('Ireland', 2.8125),\n",
       " ('Czech Republic', 2.75),\n",
       " ('Ghana', 2.75),\n",
       " ('Martinique', 2.75),\n",
       " ('Niacragua', 2.75),\n",
       " ('Portugal', 2.75),\n",
       " ('Wales', 2.75),\n",
       " ('Mexico', 2.6875),\n",
       " ('South Africa', 2.6666666666666665),\n",
       " ('Puerto Rico', 2.625),\n",
       " ('India', 2.5)]"
      ]
     },
     "execution_count": 68,
     "metadata": {},
     "output_type": "execute_result"
    }
   ],
   "source": [
    "# To earn points, you must comment your code\n",
    "# Sorting the highest to lowest average ratings per country\n",
    "sorted_avg_list = []\n",
    "for i in range(len(location_names_avg)):\n",
    "    sorted_avg_list.append((location_names_avg[i], location_avg[i]))\n",
    "\n",
    "# Sort the list in reverse\n",
    "sorted_avg_list.sort(key = lambda x:x[1], reverse=True)\n",
    "\n",
    "# Print \n",
    "sorted_avg_list"
   ]
  },
  {
   "cell_type": "markdown",
   "metadata": {},
   "source": [
    "### Split into individual sorted lists\n",
    "* Option #1\n",
    "    * List iterator\n",
    "    * list_name = ['specific stat' for 'entry' in 'name of array']\n",
    "    * Read as: A list of every 'specific stat' for every 'entry' in the array 'name of array'\n",
    "* Option #2\n",
    "    * Loops\n",
    "    * Create an empty list\n",
    "    * Run a loop that:\n",
    "        * Stores each appropriate category and statistic\n",
    "        * Converts them to a tuple\n",
    "        * Adds the tuple to the list\n",
    "* Show the list\n",
    "    * This is a good way for you to see if your modifications were successful and to see what the data looks like"
   ]
  },
  {
   "cell_type": "code",
   "execution_count": 21,
   "metadata": {},
   "outputs": [
    {
     "name": "stdout",
     "output_type": "stream",
     "text": [
      "['Chile', 'Amsterdam', 'Netherlands', 'Philippines', 'Iceland', 'Vietnam', 'Brazil', 'Poland', 'Australia', 'Guatemala', 'Switzerland', 'Singapore', 'Italy', 'Scotland', 'Canada', 'Argentina', 'Denmark', 'Spain', 'France', 'Bolivia', 'Fiji', 'Finland', 'Israel', 'Russia', 'Suriname', 'Austria', 'Honduras', 'Hungary', 'Domincan Republic', 'South Korea', 'New Zealand', 'Germany', 'Venezuela', 'Colombia', 'Lithuania', 'U.S.A.', 'Madagascar', 'Costa Rica', 'Belgium', 'Japan', 'U.K.', 'Sweden', 'Ecuador', 'Eucador', 'Nicaragua', 'St. Lucia', 'Sao Tome', 'Peru', 'Grenada', 'Ireland', 'Czech Republic', 'Ghana', 'Martinique', 'Niacragua', 'Portugal', 'Wales', 'Mexico', 'South Africa', 'Puerto Rico', 'India']\n",
      "[3.75, 3.5, 3.5, 3.5, 3.4166666666666665, 3.409090909090909, 3.3970588235294117, 3.375, 3.357142857142857, 3.35, 3.3421052631578947, 3.3333333333333335, 3.3253968253968256, 3.325, 3.324, 3.3055555555555554, 3.283333333333333, 3.27, 3.2516025641025643, 3.25, 3.25, 3.25, 3.25, 3.25, 3.25, 3.2403846153846154, 3.2083333333333335, 3.2045454545454546, 3.2, 3.2, 3.1911764705882355, 3.1785714285714284, 3.175, 3.1739130434782608, 3.1666666666666665, 3.1541230366492146, 3.1470588235294117, 3.138888888888889, 3.09375, 3.088235294117647, 3.0546875, 3.05, 3.009259259259259, 3.0, 3.0, 3.0, 2.9375, 2.8970588235294117, 2.8333333333333335, 2.8125, 2.75, 2.75, 2.75, 2.75, 2.75, 2.75, 2.6875, 2.6666666666666665, 2.625, 2.5]\n"
     ]
    }
   ],
   "source": [
    "# To earn points, you must comment your code\n",
    "\n",
    "# Create lists of sorted departments \n",
    "x_data = [tuple[0] for tuple in sorted_avg_list]\n",
    "y_data = [tuple[1] for tuple in sorted_avg_list]\n",
    "\n",
    "# Print\n",
    "print(x_data)\n",
    "print(y_data)"
   ]
  },
  {
   "cell_type": "markdown",
   "metadata": {},
   "source": [
    "# Part 6: Create a Bar Chart to Visualize Data (6 points)\n",
    "* WARNING: DO NOT COPY/PASTE ENTIRE GRAPH CODE ALL AT ONCE\n",
    "    * Use code line-by-line to ensure all values are changed to reflect the ones in this notebook!\n",
    "* REMINDER: Bar charts displays one item's value compared to others'\n",
    "    * Think - which lists are holding the required data?\n",
    "        * One list of 'bar positions'\n",
    "        * One list of statistics of interest\n",
    "        * One list of labels\n",
    "* Create a 'bar position list'\n",
    "* Set graph details\n",
    "* Create and display graph"
   ]
  },
  {
   "cell_type": "markdown",
   "metadata": {},
   "source": [
    "### Create a 'bar position list'\n",
    "* REMINDER: Use np.arange(start, length+1)"
   ]
  },
  {
   "cell_type": "code",
   "execution_count": 69,
   "metadata": {},
   "outputs": [
    {
     "name": "stdout",
     "output_type": "stream",
     "text": [
      "[ 1  2  3  4  5  6  7  8  9 10 11 12 13 14 15 16 17 18 19 20 21 22 23 24\n",
      " 25 26 27 28 29 30 31 32 33 34 35 36 37 38 39 40 41 42 43 44 45 46 47 48\n",
      " 49 50 51 52 53 54 55 56 57 58 59 60]\n"
     ]
    }
   ],
   "source": [
    "# To earn points, you must comment your code\n",
    "\n",
    "# Bar Position array -- basically, number of bars in the visual\n",
    "bar_pos = np.arange(1, length+1)\n",
    "\n",
    "# Print list\n",
    "print(bar_pos)"
   ]
  },
  {
   "cell_type": "markdown",
   "metadata": {},
   "source": [
    "## Set graph details & Create and display graph\n",
    "* Import matplotlib appropriately\n",
    "* Your graph should be styled uniquely compared to any previously created, and must include:\n",
    "    * Title\n",
    "    * X-axis label\n",
    "    * Y-axis label\n",
    "    * Bar labels (xticks)\n",
    "    * Visually appealing style\n",
    "    * Graph color not previously used\n",
    "    * BAR GRAPH SYNTAX: plot.bar(bars_list, stat_list, etc.)"
   ]
  },
  {
   "cell_type": "code",
   "execution_count": 70,
   "metadata": {},
   "outputs": [
    {
     "data": {
      "image/png": "[encoded data removed]",
      "text/plain": [
       "<Figure size 576x576 with 1 Axes>"
      ]
     },
     "metadata": {},
     "output_type": "display_data"
    }
   ],
   "source": [
    "# To earn points, you must comment your code\n",
    "\n",
    "# This visual displays the average bar ratings per country\n",
    "\n",
    "# Import matplotlib and numpy\n",
    "import matplotlib.pyplot as plot\n",
    "%matplotlib inline\n",
    "import numpy as np\n",
    "\n",
    "# Graph details\n",
    "plot.style.use(\"dark_background\")\n",
    "plot.figure(figsize=(8,8))\n",
    "plot.title('Average Rating of Chocolate Bars for Each Location')\n",
    "plot.ylabel('Average Rating')\n",
    "plot.xlabel('Company Location')\n",
    "\n",
    "# Create lists of sorted departements and total sums\n",
    "x_data = [tuple[0] for tuple in sorted_avg_list]\n",
    "y_data = [tuple[1] for tuple in sorted_avg_list]\n",
    "\n",
    "length = len(sorted_avg_list)\n",
    "bar_pos = np.arange(1, length+1)\n",
    "plot.xticks(bar_pos, x_data, rotation=90)\n",
    "width = 0.5\n",
    "\n",
    "# Bar graph\n",
    "plot.bar(bar_pos, y_data, width, color=\"#ffffcc\")\n",
    "plot.show()"
   ]
  },
  {
   "cell_type": "markdown",
   "metadata": {},
   "source": [
    "# Part 7: Answer (6 points)"
   ]
  },
  {
   "cell_type": "markdown",
   "metadata": {},
   "source": [
    "### Answer the original question at hand\n",
    "* Your response must:\n",
    "    * Clearly state a data-based answer\n",
    "    * Contain a brief summary of how the data was organized and compared\n",
    "    * Describe how your visualization helps verify the stated answer"
   ]
  },
  {
   "cell_type": "markdown",
   "metadata": {},
   "source": [
    "## Answer: \n",
    "* Chile has highest with an average chocolate bar rating of 3.75, and India is the lowest with an average chocolate bar rating of 2.5 out of 5. The data was sorted by each company location or country and the average chocolate bar ratings from those countries. I created a sorted tuple that placed the average ratings in highest to lowest order. The visualization being a bar graph clearly shows the bar being highest for Chile and lowest for India. Since the y-axis represents the average ratings, I could then state that the highest average rating was of Chile's and the lowest was of India's. "
   ]
  },
  {
   "cell_type": "markdown",
   "metadata": {},
   "source": [
    "# Part 8: Reflection "
   ]
  },
  {
   "cell_type": "markdown",
   "metadata": {},
   "source": [
    "### What do you think are some of the limitations of your analysis?\n",
    "* Was there additional data that you would've liked to have used if it were available?\n",
    "* Did time limit you from answering a different interesting question?\n",
    "* Is there anything you would have liked to have dug into deeper?\n",
    "* Provide a thoughtful, well-written response"
   ]
  },
  {
   "cell_type": "markdown",
   "metadata": {
    "collapsed": true
   },
   "source": [
    "### Reflection\n",
    "* I think the data set was very specific and included most of the information necessary for me to analyze it. It even included the review date, cocoa percent, the bean type, and the bean origin, giving me a variety of choices to pick from. I think time definitely limited me from answering a different question. If I had more time, I would have probably looked into how as the years passed, the ratings from each company improved, if at all, and potentially why they improved. If not for that, I would have dug deeper into how the percent of cocoa used correlated with the ratings of chocolate bar, and predict why that was the case. For example, some people prefer milk chocolate, which has substantially less cocoa than dark chocolate. That could cause them to rate the chocolate bars with less cocoa higher than those who prefer dark chocolate. Since the data has so much information in it, with more time, I could have analyzed its specifics more for sure. "
   ]
  }
 ],
 "metadata": {
  "kernelspec": {
   "display_name": "Python 3",
   "language": "python",
   "name": "python3"
  },
  "language_info": {
   "codemirror_mode": {
    "name": "ipython",
    "version": 3
   },
   "file_extension": ".py",
   "mimetype": "text/x-python",
   "name": "python",
   "nbconvert_exporter": "python",
   "pygments_lexer": "ipython3",
   "version": "3.8.8"
  }
 },
 "nbformat": 4,
 "nbformat_minor": 1
}
